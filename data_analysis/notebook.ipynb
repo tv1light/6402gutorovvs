{
 "cells": [
  {
   "cell_type": "code",
   "id": "initial_id",
   "metadata": {
    "collapsed": true,
    "ExecuteTime": {
     "end_time": "2024-12-13T08:48:12.275960Z",
     "start_time": "2024-12-13T08:48:11.882854Z"
    }
   },
   "source": [
    "import time\n",
    "\n",
    "from data_analysis.services.realtime_weather_service import RealtimeWeatherMonitoringService\n",
    "from data_analysis.weather_analysis.weather_analysis import WeatherDataProcessor\n",
    "from data_analysis.data_loader.weather_data_loader import WeatherDataLoader\n",
    "from datetime import datetime"
   ],
   "outputs": [],
   "execution_count": 1
  },
  {
   "metadata": {
    "ExecuteTime": {
     "end_time": "2024-12-13T08:48:27.290410Z",
     "start_time": "2024-12-13T08:48:12.281262Z"
    }
   },
   "cell_type": "code",
   "source": [
    "service = RealtimeWeatherMonitoringService(1, '28900')\n",
    "service.start()\n",
    "time.sleep(15)\n"
   ],
   "id": "f610af95df4e99e0",
   "outputs": [
    {
     "name": "stdout",
     "output_type": "stream",
     "text": [
      "Функция __init__ выполнена за 0.0000 секунд\n",
      "Функция compute_diff выполнена за 0.0016 секунд\n",
      "Функция find_autocorrelation выполнена за 0.0072 секунд\n",
      "Функция find_extrema выполнена за 0.0056 секунд\n"
     ]
    },
    {
     "name": "stderr",
     "output_type": "stream",
     "text": [
      "RuntimeWarning: Degrees of freedom <= 0 for slice\n",
      "RuntimeWarning: divide by zero encountered in divide\n",
      "RuntimeWarning: invalid value encountered in multiply\n"
     ]
    },
    {
     "name": "stdout",
     "output_type": "stream",
     "text": [
      "Функция __init__ выполнена за 0.0000 секунд\n",
      "Функция compute_diff выполнена за 0.0002 секунд\n",
      "Функция find_autocorrelation выполнена за 0.0020 секунд\n",
      "Функция find_extrema выполнена за 0.0011 секунд\n"
     ]
    },
    {
     "name": "stderr",
     "output_type": "stream",
     "text": [
      "RuntimeWarning: Degrees of freedom <= 0 for slice\n",
      "RuntimeWarning: divide by zero encountered in divide\n",
      "RuntimeWarning: invalid value encountered in multiply\n"
     ]
    }
   ],
   "execution_count": 2
  },
  {
   "metadata": {},
   "cell_type": "markdown",
   "source": "",
   "id": "1cc72d443f07fcf8"
  },
  {
   "metadata": {
    "ExecuteTime": {
     "end_time": "2024-12-13T08:48:32.374193Z",
     "start_time": "2024-12-13T08:48:27.410307Z"
    }
   },
   "cell_type": "code",
   "source": "service.stop()",
   "id": "1f1e07c0614d9cd6",
   "outputs": [],
   "execution_count": 3
  }
 ],
 "metadata": {
  "kernelspec": {
   "display_name": "Python 3",
   "language": "python",
   "name": "python3"
  },
  "language_info": {
   "codemirror_mode": {
    "name": "ipython",
    "version": 2
   },
   "file_extension": ".py",
   "mimetype": "text/x-python",
   "name": "python",
   "nbconvert_exporter": "python",
   "pygments_lexer": "ipython2",
   "version": "2.7.6"
  }
 },
 "nbformat": 4,
 "nbformat_minor": 5
}
