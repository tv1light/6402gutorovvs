{
 "cells": [
  {
   "cell_type": "code",
   "id": "initial_id",
   "metadata": {
    "collapsed": true,
    "ExecuteTime": {
     "end_time": "2024-12-20T09:28:13.762081Z",
     "start_time": "2024-12-20T09:28:13.324545Z"
    }
   },
   "source": [
    "from weather_analysis import WeatherDataProcessor\n",
    "from data_loader import WeatherDataLoader\n",
    "from database_manager import WeatherDatabaseManager\n",
    "import datetime"
   ],
   "outputs": [],
   "execution_count": 1
  },
  {
   "metadata": {
    "ExecuteTime": {
     "end_time": "2024-12-20T09:29:20.236250Z",
     "start_time": "2024-12-20T09:29:20.051445Z"
    }
   },
   "cell_type": "code",
   "source": [
    "\n",
    "data_loader = WeatherDataLoader()\n",
    "weather_data = data_loader.fetch_historical_data('28900', datetime.datetime(2024, 10, 1), datetime.datetime.now())\n",
    "db_manager = WeatherDatabaseManager('postgres', 'postgres', 'masterkey', 'localhost', 5432)\n",
    "db_manager.create_table()\n",
    "weather_analyzer = WeatherDataProcessor(weather_data, db_manager)\n",
    "\n",
    "weather_analyzer.calculate_all_params()\n",
    "weather_analyzer.save_to_database('28900')\n",
    "weather_analyzer.save_to_excel()"
   ],
   "id": "f610af95df4e99e0",
   "outputs": [
    {
     "name": "stdout",
     "output_type": "stream",
     "text": [
      "Функция __init__ выполнена за 0.0000 секунд\n",
      "Функция compute_diff выполнена за 0.0002 секунд\n",
      "Функция find_autocorrelation выполнена за 0.0127 секунд\n",
      "Функция find_extrema выполнена за 0.0013 секунд\n",
      "Функция save_to_database выполнена за 0.0606 секунд\n",
      "Функция save_to_excel выполнена за 0.0368 секунд\n"
     ]
    }
   ],
   "execution_count": 7
  },
  {
   "metadata": {},
   "cell_type": "markdown",
   "source": "",
   "id": "1cc72d443f07fcf8"
  },
  {
   "metadata": {
    "ExecuteTime": {
     "end_time": "2024-12-20T09:29:31.860738Z",
     "start_time": "2024-12-20T09:29:31.848945Z"
    }
   },
   "cell_type": "code",
   "source": "db_manager.fetch_data('28900')",
   "id": "1f1e07c0614d9cd6",
   "outputs": [
    {
     "data": {
      "text/plain": [
       "   station_id  timestamp   temp_avg  temp_diff  autocorr  max_temp  min_temp\n",
       "0       28900 2024-10-11  10.942857       -4.3  0.574921       NaN       NaN\n",
       "1       28900 2024-10-12   9.228571       -2.2  0.567490       NaN      -0.5\n",
       "2       28900 2024-10-13   7.657143        0.8  0.575014       NaN       NaN\n",
       "3       28900 2024-10-14   5.742857        1.5  0.585393       NaN       NaN\n",
       "4       28900 2024-10-15   3.728571        1.5  0.592028       NaN       NaN\n",
       "..        ...        ...        ...        ...       ...       ...       ...\n",
       "75      28900 2024-10-05        NaN        2.2  0.662202      11.5       NaN\n",
       "76      28900 2024-10-06        NaN       -0.2  0.624175       NaN      11.3\n",
       "77      28900 2024-10-07  12.471429        3.9  0.629255       NaN       NaN\n",
       "78      28900 2024-10-08  12.785714        2.2  0.634397      17.4       NaN\n",
       "79      28900 2024-10-09  12.700000       -3.9  0.624526       NaN       NaN\n",
       "\n",
       "[80 rows x 7 columns]"
      ],
      "text/html": [
       "<div>\n",
       "<style scoped>\n",
       "    .dataframe tbody tr th:only-of-type {\n",
       "        vertical-align: middle;\n",
       "    }\n",
       "\n",
       "    .dataframe tbody tr th {\n",
       "        vertical-align: top;\n",
       "    }\n",
       "\n",
       "    .dataframe thead th {\n",
       "        text-align: right;\n",
       "    }\n",
       "</style>\n",
       "<table border=\"1\" class=\"dataframe\">\n",
       "  <thead>\n",
       "    <tr style=\"text-align: right;\">\n",
       "      <th></th>\n",
       "      <th>station_id</th>\n",
       "      <th>timestamp</th>\n",
       "      <th>temp_avg</th>\n",
       "      <th>temp_diff</th>\n",
       "      <th>autocorr</th>\n",
       "      <th>max_temp</th>\n",
       "      <th>min_temp</th>\n",
       "    </tr>\n",
       "  </thead>\n",
       "  <tbody>\n",
       "    <tr>\n",
       "      <th>0</th>\n",
       "      <td>28900</td>\n",
       "      <td>2024-10-11</td>\n",
       "      <td>10.942857</td>\n",
       "      <td>-4.3</td>\n",
       "      <td>0.574921</td>\n",
       "      <td>NaN</td>\n",
       "      <td>NaN</td>\n",
       "    </tr>\n",
       "    <tr>\n",
       "      <th>1</th>\n",
       "      <td>28900</td>\n",
       "      <td>2024-10-12</td>\n",
       "      <td>9.228571</td>\n",
       "      <td>-2.2</td>\n",
       "      <td>0.567490</td>\n",
       "      <td>NaN</td>\n",
       "      <td>-0.5</td>\n",
       "    </tr>\n",
       "    <tr>\n",
       "      <th>2</th>\n",
       "      <td>28900</td>\n",
       "      <td>2024-10-13</td>\n",
       "      <td>7.657143</td>\n",
       "      <td>0.8</td>\n",
       "      <td>0.575014</td>\n",
       "      <td>NaN</td>\n",
       "      <td>NaN</td>\n",
       "    </tr>\n",
       "    <tr>\n",
       "      <th>3</th>\n",
       "      <td>28900</td>\n",
       "      <td>2024-10-14</td>\n",
       "      <td>5.742857</td>\n",
       "      <td>1.5</td>\n",
       "      <td>0.585393</td>\n",
       "      <td>NaN</td>\n",
       "      <td>NaN</td>\n",
       "    </tr>\n",
       "    <tr>\n",
       "      <th>4</th>\n",
       "      <td>28900</td>\n",
       "      <td>2024-10-15</td>\n",
       "      <td>3.728571</td>\n",
       "      <td>1.5</td>\n",
       "      <td>0.592028</td>\n",
       "      <td>NaN</td>\n",
       "      <td>NaN</td>\n",
       "    </tr>\n",
       "    <tr>\n",
       "      <th>...</th>\n",
       "      <td>...</td>\n",
       "      <td>...</td>\n",
       "      <td>...</td>\n",
       "      <td>...</td>\n",
       "      <td>...</td>\n",
       "      <td>...</td>\n",
       "      <td>...</td>\n",
       "    </tr>\n",
       "    <tr>\n",
       "      <th>75</th>\n",
       "      <td>28900</td>\n",
       "      <td>2024-10-05</td>\n",
       "      <td>NaN</td>\n",
       "      <td>2.2</td>\n",
       "      <td>0.662202</td>\n",
       "      <td>11.5</td>\n",
       "      <td>NaN</td>\n",
       "    </tr>\n",
       "    <tr>\n",
       "      <th>76</th>\n",
       "      <td>28900</td>\n",
       "      <td>2024-10-06</td>\n",
       "      <td>NaN</td>\n",
       "      <td>-0.2</td>\n",
       "      <td>0.624175</td>\n",
       "      <td>NaN</td>\n",
       "      <td>11.3</td>\n",
       "    </tr>\n",
       "    <tr>\n",
       "      <th>77</th>\n",
       "      <td>28900</td>\n",
       "      <td>2024-10-07</td>\n",
       "      <td>12.471429</td>\n",
       "      <td>3.9</td>\n",
       "      <td>0.629255</td>\n",
       "      <td>NaN</td>\n",
       "      <td>NaN</td>\n",
       "    </tr>\n",
       "    <tr>\n",
       "      <th>78</th>\n",
       "      <td>28900</td>\n",
       "      <td>2024-10-08</td>\n",
       "      <td>12.785714</td>\n",
       "      <td>2.2</td>\n",
       "      <td>0.634397</td>\n",
       "      <td>17.4</td>\n",
       "      <td>NaN</td>\n",
       "    </tr>\n",
       "    <tr>\n",
       "      <th>79</th>\n",
       "      <td>28900</td>\n",
       "      <td>2024-10-09</td>\n",
       "      <td>12.700000</td>\n",
       "      <td>-3.9</td>\n",
       "      <td>0.624526</td>\n",
       "      <td>NaN</td>\n",
       "      <td>NaN</td>\n",
       "    </tr>\n",
       "  </tbody>\n",
       "</table>\n",
       "<p>80 rows × 7 columns</p>\n",
       "</div>"
      ]
     },
     "execution_count": 10,
     "metadata": {},
     "output_type": "execute_result"
    }
   ],
   "execution_count": 10
  },
  {
   "metadata": {
    "ExecuteTime": {
     "end_time": "2024-12-20T09:25:43.914543Z",
     "start_time": "2024-12-20T09:25:43.909154Z"
    }
   },
   "cell_type": "code",
   "source": "db_manager.delete_data('28900')",
   "id": "d30ca0b1d2294211",
   "outputs": [],
   "execution_count": 5
  },
  {
   "metadata": {
    "ExecuteTime": {
     "end_time": "2024-12-20T09:29:29.886303Z",
     "start_time": "2024-12-20T09:29:29.881805Z"
    }
   },
   "cell_type": "code",
   "source": "db_manager.delete_data_by_period('28900', datetime.datetime(2024, 10, 10), datetime.datetime(2024, 10, 10))",
   "id": "4aafbf96901f17a",
   "outputs": [],
   "execution_count": 9
  }
 ],
 "metadata": {
  "kernelspec": {
   "display_name": "Python 3",
   "language": "python",
   "name": "python3"
  },
  "language_info": {
   "codemirror_mode": {
    "name": "ipython",
    "version": 2
   },
   "file_extension": ".py",
   "mimetype": "text/x-python",
   "name": "python",
   "nbconvert_exporter": "python",
   "pygments_lexer": "ipython2",
   "version": "2.7.6"
  }
 },
 "nbformat": 4,
 "nbformat_minor": 5
}
