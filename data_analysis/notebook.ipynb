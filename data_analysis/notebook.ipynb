{
 "cells": [
  {
   "cell_type": "code",
   "id": "initial_id",
   "metadata": {
    "collapsed": true,
    "ExecuteTime": {
     "end_time": "2024-12-20T01:22:27.351522Z",
     "start_time": "2024-12-20T01:22:26.933719Z"
    }
   },
   "source": [
    "import time\n",
    "\n",
    "from pandas.core.internals import DataManager\n",
    "\n",
    "from data_analysis.services.realtime_weather_service import RealtimeWeatherMonitoringService\n",
    "from data_analysis.weather_analysis.weather_analysis import WeatherDataProcessor\n",
    "from data_analysis.data_loader.weather_data_loader import WeatherDataLoader\n",
    "from database_manager.database_manager import WeatherDatabaseManager\n",
    "import datetime"
   ],
   "outputs": [],
   "execution_count": 1
  },
  {
   "metadata": {
    "ExecuteTime": {
     "end_time": "2024-12-20T01:26:42.456130Z",
     "start_time": "2024-12-20T01:26:42.364314Z"
    }
   },
   "cell_type": "code",
   "source": [
    "\n",
    "data_loader = WeatherDataLoader()\n",
    "weather_data = data_loader.fetch_historical_data('28900', datetime.datetime(2024, 12, 13), datetime.datetime.now())\n",
    "db_manager = WeatherDatabaseManager('postgres', 'postgres', 'masterkey', 'localhost', 5432)\n",
    "weather_analyzer = WeatherDataProcessor(weather_data, db_manager)\n",
    "\n",
    "weather_analyzer.calculate_all_params()\n",
    "weather_analyzer.save_to_database('28900')\n",
    "weather_analyzer.save_to_excel()"
   ],
   "id": "f610af95df4e99e0",
   "outputs": [
    {
     "name": "stdout",
     "output_type": "stream",
     "text": [
      "Функция __init__ выполнена за 0.0000 секунд\n",
      "Функция compute_diff выполнена за 0.0002 секунд\n",
      "Функция find_autocorrelation выполнена за 0.0016 секунд\n",
      "Функция find_extrema выполнена за 0.0012 секунд\n",
      "Функция save_to_database выполнена за 0.0062 секунд\n",
      "Функция save_to_excel выполнена за 0.0109 секунд\n"
     ]
    }
   ],
   "execution_count": 4
  },
  {
   "metadata": {},
   "cell_type": "markdown",
   "source": "",
   "id": "1cc72d443f07fcf8"
  },
  {
   "metadata": {
    "ExecuteTime": {
     "end_time": "2024-12-20T00:47:43.107652800Z",
     "start_time": "2024-12-19T23:21:05.605567Z"
    }
   },
   "cell_type": "code",
   "source": "",
   "id": "1f1e07c0614d9cd6",
   "outputs": [],
   "execution_count": null
  }
 ],
 "metadata": {
  "kernelspec": {
   "display_name": "Python 3",
   "language": "python",
   "name": "python3"
  },
  "language_info": {
   "codemirror_mode": {
    "name": "ipython",
    "version": 2
   },
   "file_extension": ".py",
   "mimetype": "text/x-python",
   "name": "python",
   "nbconvert_exporter": "python",
   "pygments_lexer": "ipython2",
   "version": "2.7.6"
  }
 },
 "nbformat": 4,
 "nbformat_minor": 5
}
